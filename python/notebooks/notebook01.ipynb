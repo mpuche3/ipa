{
 "cells": [
  {
   "cell_type": "code",
   "execution_count": 35,
   "metadata": {},
   "outputs": [],
   "source": [
    "import pandas as pd\n",
    "import os"
   ]
  },
  {
   "cell_type": "code",
   "execution_count": 36,
   "metadata": {},
   "outputs": [],
   "source": [
    "path = os.path.join(\".\", \"data\", \"data04\")\n",
    "os.listdir(path)\n",
    "\n",
    "with open(os.path.join(path, \"words_txt.js\"), \"r\") as f:\n",
    "    words_txt = f.read()\n",
    "\n",
    "lines = words_txt.split(\"\\n\")[1:-11]\n",
    "\n",
    "txt = \"\"\n",
    "for line in lines:\n",
    "    line = line.replace(\" \", \" /·\")\n",
    "    txt += line + \"·/\" + \"\\n\"\n",
    "\n",
    "with open(\"deleteme.txt\", \"w\") as f:\n",
    "    f.write(txt)"
   ]
  }
 ],
 "metadata": {
  "kernelspec": {
   "display_name": "Python 3 (ipykernel)",
   "language": "python",
   "name": "python3"
  },
  "language_info": {
   "codemirror_mode": {
    "name": "ipython",
    "version": 3
   },
   "file_extension": ".py",
   "mimetype": "text/x-python",
   "name": "python",
   "nbconvert_exporter": "python",
   "pygments_lexer": "ipython3",
   "version": "3.10.4"
  },
  "orig_nbformat": 4
 },
 "nbformat": 4,
 "nbformat_minor": 2
}
