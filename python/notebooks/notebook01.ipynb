{
 "cells": [
  {
   "cell_type": "code",
   "execution_count": 2,
   "metadata": {},
   "outputs": [],
   "source": [
    "import pandas as pd\n",
    "import os\n",
    "import re"
   ]
  },
  {
   "cell_type": "code",
   "execution_count": 50,
   "metadata": {},
   "outputs": [
    {
     "name": "stdout",
     "output_type": "stream",
     "text": [
      "Mexico.    [mek.suh.kow]\n",
      "Cooperation.       [kow.aa.pr.ei.shn]\n",
      "Coaching.          [kow.chng]\n",
      "Coaches.           [kow.chz]\n",
      "Coalition.         [kow.uh.li.shn]\n",
      "Coastal.           [kow.stl]\n",
      "Tobacco.    [tuh.ba.kow]\n",
      "Dakota.        [duh.kow.tuh]\n",
      "Cocaine.           [kow.kein]\n",
      "Cohen.             [kow.uhn]\n",
      "Coincidence.       [kow.in.suh.dns]\n",
      "Coordinator.       [kow.or.duh.nei.tr]\n",
      "Coordination.      [kow.or.duh.nei.shn]\n",
      "Coconut.           [kow.kuh.nt]\n",
      "Cooperative.       [kow.aa.pr.uh.tv]\n",
      "Coding.            [kow.dng]\n",
      "Morocco.     [mr.aa.kow]\n",
      "Cooperate.         [kow.aa.puh.reit]\n",
      "Coordinated.       [kow.or.duh.nei.td]\n",
      "Ecosystem.      [ee.kow.si.stm]\n",
      "Psycho.        [sai.kow]\n",
      "Franco.      [frang.kow]\n",
      "Coating.           [kow.tng]\n",
      "Coping.            [kow.png]\n",
      "Coaster.           [kow.str]\n",
      "Coated.            [kow.td]\n",
      "Copenhagen.        [kow.pn.hei.gn]\n",
      "Monaco.    [maa.nuh.kow]\n",
      "Cocoa.             [kow.kow]\n",
      "Coherent.          [kow.hee.rnt]\n",
      "Coordinating.      [kow.or.duh.nei.tng]\n",
      "Coded.             [kow.dd]\n",
      "UNESCO.    [yoo.nes.kow]\n",
      "Ecosystems.     [ee.kow.ss.tmz]\n",
      "Cobra.             [kow.bruh]\n",
      "Coincide.          [kow.uhn.said]\n",
      "Coworkers.         [kow.wur.krz]\n",
      "Kosovo.            [kow.suh.vow]\n",
      "Conan.             [kow.nn]\n",
      "Cooperating.       [kow.aa.pr.ei.tng]\n",
      "Cohort.            [kow.hort]\n",
      "Coefficient.       [kow.uh.fi.shnt]\n",
      "Encoding.      [uhn.kow.dng]\n",
      "Cobalt.            [kow.baalt]\n",
      "Echoing.         [e.kow.uhng]\n",
      "Coatings.          [kow.tngz]\n",
      "Coincided.         [kow.uhn.sai.dd]\n",
      "Costco.      [kaast.kow]\n",
      "Jericho.    [je.ruh.kow]\n",
      "Cohesive.          [kow.hee.sv]\n",
      "Encoded.       [uhn.kow.dd]\n",
      "Coworker.          [kow.wur.kr]\n",
      "Cohesion.          [kow.hee.zhn]\n",
      "Tacoma.        [tuh.kow.muh]\n",
      "Coercion.          [kow.ur.zhn]\n",
      "Kodak.             [kow.dak]\n",
      "Kosher.            [kow.shr]\n",
      "Psychotherapy. [sai.kow.the.ruh.pee]\n",
      "Coincidentally.    [kow.in.suh.den.tuh.lee]\n",
      "Psychosis.     [sai.kow.ss]\n",
      "\n"
     ]
    }
   ],
   "source": [
    "syllable = \".kow.\"\n",
    "\n",
    "with open(os.path.join('..', \"..\", 'words_08.txt'), 'r') as f:\n",
    "    words = f.read()\n",
    "\n",
    "lines = \"\"\n",
    "for line in words.split('\\n'):\n",
    "    if syllable in line:\n",
    "        word = line.split(\" \")[0]\n",
    "        pron = line.split(\" \")[1]\n",
    "        line = \"\"\n",
    "        for _ in range(1):\n",
    "            line = line + word + \".\"\n",
    "        lines = lines + line + \" \" + pron + \"\\n\"\n",
    "\n",
    "maxPos = 0\n",
    "for line in lines.split('\\n'):\n",
    "    if syllable in line:\n",
    "        pos = line.find(syllable)\n",
    "        maxPos = max(maxPos, pos)\n",
    "        # print(maxPos, pos, \" \", line)\n",
    "\n",
    "for line in lines.split('\\n'):\n",
    "    pos = line.find(syllable)\n",
    "    line = line.replace(\"/.\", (maxPos - pos)*\" \" + \"/.\")\n",
    "    line = line.replace(\"/.\", \"[\").replace(\"./\", \"]\")\n",
    "    print(line)\n"
   ]
  },
  {
   "cell_type": "code",
   "execution_count": null,
   "metadata": {},
   "outputs": [],
   "source": [
    "def more_than_two_caps(text):\n",
    "  caps = re.findall(r'[A-Z]', text[1:])\n",
    "  return len(caps) > 0\n",
    "\n",
    "with open(os.path.join('..', \"..\", 'words_08.txt'), 'r') as f:\n",
    "    words = f.read()\n",
    "\n",
    "for k, word in enumerate(words.split(\"\\n\")):\n",
    "    if more_than_two_caps(word):\n",
    "        print(k+1, word)"
   ]
  },
  {
   "cell_type": "code",
   "execution_count": null,
   "metadata": {},
   "outputs": [],
   "source": [
    "x1 = \"\"\n",
    "for line in x0.split(\"\\n\"):\n",
    "    if len(line) > 0:\n",
    "        x1 += line.split(\" \")[1] + \"\\n\"\n",
    "\n",
    "DictReplace = {}\n",
    "for line in x1.split(\"\\n\"):\n",
    "    if len(line) > 0:\n",
    "        DictReplace[line] = re.findall('[A-Z][^A-Z]*', line)[0]\n",
    "\n",
    "DictReplace"
   ]
  },
  {
   "cell_type": "code",
   "execution_count": 13,
   "metadata": {},
   "outputs": [],
   "source": [
    "with open(os.path.join('..', \"..\", 'words_07.txt'), 'r') as f:\n",
    "    words = f.read()"
   ]
  },
  {
   "cell_type": "code",
   "execution_count": null,
   "metadata": {},
   "outputs": [],
   "source": [
    "for key, val in DictReplace.items():\n",
    "    words = words.replace(key, val)"
   ]
  },
  {
   "cell_type": "code",
   "execution_count": 16,
   "metadata": {},
   "outputs": [],
   "source": [
    "with open(os.path.join('..', \"..\", 'words_08.txt'), 'w') as f:\n",
    "    f.write(words)"
   ]
  },
  {
   "cell_type": "code",
   "execution_count": null,
   "metadata": {},
   "outputs": [],
   "source": []
  },
  {
   "cell_type": "code",
   "execution_count": null,
   "metadata": {},
   "outputs": [],
   "source": []
  }
 ],
 "metadata": {
  "kernelspec": {
   "display_name": "Python 3 (ipykernel)",
   "language": "python",
   "name": "python3"
  },
  "language_info": {
   "codemirror_mode": {
    "name": "ipython",
    "version": 3
   },
   "file_extension": ".py",
   "mimetype": "text/x-python",
   "name": "python",
   "nbconvert_exporter": "python",
   "pygments_lexer": "ipython3",
   "version": "3.10.4"
  },
  "orig_nbformat": 4
 },
 "nbformat": 4,
 "nbformat_minor": 2
}
